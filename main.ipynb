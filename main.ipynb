{
 "cells": [
  {
   "cell_type": "code",
   "execution_count": 61,
   "metadata": {},
   "outputs": [],
   "source": [
    "import pandas as pd\n",
    "import numpy as np\n",
    "from scipy.optimize import minimize\n",
    "from scipy.stats import skew\n",
    "import matplotlib.pyplot as plt\n",
    "import seaborn as sns"
   ]
  },
  {
   "cell_type": "markdown",
   "metadata": {},
   "source": [
    "## Load and Process Data\n",
    "External Datasets:\n",
    "* fred_real_gdp.csv (GDP Growth): https://fred.stlouisfed.org/series/GDPC1\n",
    "* wgc_gold_prices (Gold Prices): https://www.gold.org/goldhub/data/gold-prices\n",
    "* fred_sp500 (S&P 500 Prices): https://fred.stlouisfed.org/series/SP500 "
   ]
  },
  {
   "cell_type": "code",
   "execution_count": 62,
   "metadata": {},
   "outputs": [],
   "source": [
    "# Load data\n",
    "macro = pd.read_excel('Files/Data_180724.xlsx', sheet_name='Macro')\n",
    "us_bonds = pd.read_excel('Files/Data_180724.xlsx', sheet_name='Yield')\n",
    "prices = pd.read_excel('Files/Data_180724.xlsx', sheet_name='Prices')\n",
    "fred_real_gdp = pd.read_csv('Files/fred_real_gdp.csv')\n",
    "wgc_gold_prices = pd.read_csv('Files/wgc_gold_prices.csv')\n",
    "fred_sp500 = pd.read_csv('Files/fred_sp500.csv')"
   ]
  },
  {
   "cell_type": "code",
   "execution_count": 63,
   "metadata": {},
   "outputs": [
    {
     "name": "stdout",
     "output_type": "stream",
     "text": [
      "Date       datetime64[ns]\n",
      "GDP YOY           float64\n",
      "CPI YOY           float64\n",
      "dtype: object\n",
      "Date             datetime64[ns]\n",
      "US 10YR Bonds           float64\n",
      "dtype: object\n",
      "Date                   datetime64[ns]\n",
      "S&P 500                       float64\n",
      "Gold                          float64\n",
      "USD Index Spot Rate           float64\n",
      "dtype: object\n",
      "DATE      object\n",
      "GDPC1    float64\n",
      "dtype: object\n",
      "Date     object\n",
      "Gold    float64\n",
      "dtype: object\n",
      "DATE           object\n",
      "SP500         float64\n",
      "Unnamed: 2    float64\n",
      "Unnamed: 3    float64\n",
      "dtype: object\n"
     ]
    }
   ],
   "source": [
    "# Check data columns and data type\n",
    "print(macro.dtypes)\n",
    "print(us_bonds.dtypes)\n",
    "print(prices.dtypes)\n",
    "print(fred_real_gdp.dtypes)\n",
    "print(wgc_gold_prices.dtypes)\n",
    "print(fred_sp500.dtypes)"
   ]
  },
  {
   "cell_type": "code",
   "execution_count": 64,
   "metadata": {},
   "outputs": [],
   "source": [
    "# Convert all date columns to datetime\n",
    "prices['Date'] = prices['Date'].dt.date\n",
    "macro['Date'] = macro['Date'].dt.date\n",
    "us_bonds['Date'] = us_bonds['Date'].dt.date\n",
    "wgc_gold_prices['Date'] = pd.to_datetime(wgc_gold_prices['Date'], format=\"%d/%m/%Y\").dt.date\n",
    "fred_sp500['DATE'] = pd.to_datetime(fred_sp500['DATE'], format=\"%d/%m/%Y\").dt.date"
   ]
  },
  {
   "cell_type": "markdown",
   "metadata": {},
   "source": [
    "#### Check for missing data"
   ]
  },
  {
   "cell_type": "code",
   "execution_count": 65,
   "metadata": {},
   "outputs": [
    {
     "name": "stdout",
     "output_type": "stream",
     "text": [
      "1\n",
      "0\n"
     ]
    }
   ],
   "source": [
    "# Check Macro Sheet\n",
    "macro_gdp_empty = macro.iloc[0::3]\n",
    "print(macro_gdp_empty.iloc[:, 1].isna().sum())\n",
    "\n",
    "macro_cpi_empty = macro.iloc[:, 2]\n",
    "print(macro_cpi_empty.isna().sum())"
   ]
  },
  {
   "cell_type": "code",
   "execution_count": 66,
   "metadata": {},
   "outputs": [
    {
     "name": "stdout",
     "output_type": "stream",
     "text": [
      "           Date  GDP YOY  CPI YOY\n",
      "642  2024-06-30      NaN      3.0\n"
     ]
    }
   ],
   "source": [
    "empty_gdp = macro_gdp_empty[macro_gdp_empty.iloc[:, 1].isna()]\n",
    "print(empty_gdp)"
   ]
  },
  {
   "cell_type": "code",
   "execution_count": 67,
   "metadata": {},
   "outputs": [
    {
     "data": {
      "text/plain": [
       "Date             0\n",
       "US 10YR Bonds    0\n",
       "dtype: int64"
      ]
     },
     "execution_count": 67,
     "metadata": {},
     "output_type": "execute_result"
    }
   ],
   "source": [
    "# Check US Bonds Yield Sheet\n",
    "us_bonds.isna().sum()"
   ]
  },
  {
   "cell_type": "code",
   "execution_count": 68,
   "metadata": {},
   "outputs": [
    {
     "data": {
      "text/plain": [
       "Date                      0\n",
       "S&P 500                 368\n",
       "Gold                   1107\n",
       "USD Index Spot Rate     175\n",
       "dtype: int64"
      ]
     },
     "execution_count": 68,
     "metadata": {},
     "output_type": "execute_result"
    }
   ],
   "source": [
    "# Check Prices Sheet\n",
    "prices.isna().sum()"
   ]
  },
  {
   "cell_type": "code",
   "execution_count": 69,
   "metadata": {},
   "outputs": [
    {
     "data": {
      "text/html": [
       "<div>\n",
       "<style scoped>\n",
       "    .dataframe tbody tr th:only-of-type {\n",
       "        vertical-align: middle;\n",
       "    }\n",
       "\n",
       "    .dataframe tbody tr th {\n",
       "        vertical-align: top;\n",
       "    }\n",
       "\n",
       "    .dataframe thead th {\n",
       "        text-align: right;\n",
       "    }\n",
       "</style>\n",
       "<table border=\"1\" class=\"dataframe\">\n",
       "  <thead>\n",
       "    <tr style=\"text-align: right;\">\n",
       "      <th></th>\n",
       "      <th>Date</th>\n",
       "      <th>S&amp;P 500</th>\n",
       "      <th>Gold</th>\n",
       "      <th>USD Index Spot Rate</th>\n",
       "    </tr>\n",
       "  </thead>\n",
       "  <tbody>\n",
       "    <tr>\n",
       "      <th>1</th>\n",
       "      <td>1971-01-04</td>\n",
       "      <td>91.15</td>\n",
       "      <td>NaN</td>\n",
       "      <td>120.530</td>\n",
       "    </tr>\n",
       "    <tr>\n",
       "      <th>2</th>\n",
       "      <td>1971-01-05</td>\n",
       "      <td>91.80</td>\n",
       "      <td>NaN</td>\n",
       "      <td>120.520</td>\n",
       "    </tr>\n",
       "    <tr>\n",
       "      <th>3</th>\n",
       "      <td>1971-01-06</td>\n",
       "      <td>92.35</td>\n",
       "      <td>NaN</td>\n",
       "      <td>120.490</td>\n",
       "    </tr>\n",
       "    <tr>\n",
       "      <th>4</th>\n",
       "      <td>1971-01-07</td>\n",
       "      <td>92.38</td>\n",
       "      <td>NaN</td>\n",
       "      <td>120.550</td>\n",
       "    </tr>\n",
       "    <tr>\n",
       "      <th>5</th>\n",
       "      <td>1971-01-08</td>\n",
       "      <td>92.19</td>\n",
       "      <td>NaN</td>\n",
       "      <td>120.530</td>\n",
       "    </tr>\n",
       "    <tr>\n",
       "      <th>...</th>\n",
       "      <td>...</td>\n",
       "      <td>...</td>\n",
       "      <td>...</td>\n",
       "      <td>...</td>\n",
       "    </tr>\n",
       "    <tr>\n",
       "      <th>13763</th>\n",
       "      <td>2024-02-19</td>\n",
       "      <td>NaN</td>\n",
       "      <td>2017.21</td>\n",
       "      <td>104.291</td>\n",
       "    </tr>\n",
       "    <tr>\n",
       "      <th>13792</th>\n",
       "      <td>2024-03-29</td>\n",
       "      <td>NaN</td>\n",
       "      <td>NaN</td>\n",
       "      <td>104.487</td>\n",
       "    </tr>\n",
       "    <tr>\n",
       "      <th>13833</th>\n",
       "      <td>2024-05-27</td>\n",
       "      <td>NaN</td>\n",
       "      <td>2350.97</td>\n",
       "      <td>104.595</td>\n",
       "    </tr>\n",
       "    <tr>\n",
       "      <th>13850</th>\n",
       "      <td>2024-06-19</td>\n",
       "      <td>NaN</td>\n",
       "      <td>2328.16</td>\n",
       "      <td>105.254</td>\n",
       "    </tr>\n",
       "    <tr>\n",
       "      <th>13861</th>\n",
       "      <td>2024-07-04</td>\n",
       "      <td>NaN</td>\n",
       "      <td>2356.69</td>\n",
       "      <td>105.130</td>\n",
       "    </tr>\n",
       "  </tbody>\n",
       "</table>\n",
       "<p>1495 rows × 4 columns</p>\n",
       "</div>"
      ],
      "text/plain": [
       "             Date  S&P 500     Gold  USD Index Spot Rate\n",
       "1      1971-01-04    91.15      NaN              120.530\n",
       "2      1971-01-05    91.80      NaN              120.520\n",
       "3      1971-01-06    92.35      NaN              120.490\n",
       "4      1971-01-07    92.38      NaN              120.550\n",
       "5      1971-01-08    92.19      NaN              120.530\n",
       "...           ...      ...      ...                  ...\n",
       "13763  2024-02-19      NaN  2017.21              104.291\n",
       "13792  2024-03-29      NaN      NaN              104.487\n",
       "13833  2024-05-27      NaN  2350.97              104.595\n",
       "13850  2024-06-19      NaN  2328.16              105.254\n",
       "13861  2024-07-04      NaN  2356.69              105.130\n",
       "\n",
       "[1495 rows x 4 columns]"
      ]
     },
     "execution_count": 69,
     "metadata": {},
     "output_type": "execute_result"
    }
   ],
   "source": [
    "empty_prices = prices[prices.isna().any(axis=1)]\n",
    "empty_prices"
   ]
  },
  {
   "cell_type": "markdown",
   "metadata": {},
   "source": [
    "#### Fill in Missing Values"
   ]
  },
  {
   "cell_type": "code",
   "execution_count": 70,
   "metadata": {},
   "outputs": [
    {
     "name": "stdout",
     "output_type": "stream",
     "text": [
      "0\n",
      "0\n"
     ]
    }
   ],
   "source": [
    "fred_real_gdp['GDP_YoY'] = fred_real_gdp['GDPC1'].pct_change(periods=4) * 100\n",
    "\n",
    "# Fill in missing value for Macro Sheet\n",
    "macro.iloc[642, 1] = fred_real_gdp.iloc[-1, 2]\n",
    "\n",
    "macro_gdp_empty = macro.iloc[0::3]\n",
    "print(macro_gdp_empty.iloc[:, 1].isna().sum())\n",
    "\n",
    "macro_cpi_empty = macro.iloc[:, 2]\n",
    "print(macro_cpi_empty.isna().sum())"
   ]
  },
  {
   "cell_type": "code",
   "execution_count": 71,
   "metadata": {},
   "outputs": [
    {
     "data": {
      "text/html": [
       "<div>\n",
       "<style scoped>\n",
       "    .dataframe tbody tr th:only-of-type {\n",
       "        vertical-align: middle;\n",
       "    }\n",
       "\n",
       "    .dataframe tbody tr th {\n",
       "        vertical-align: top;\n",
       "    }\n",
       "\n",
       "    .dataframe thead th {\n",
       "        text-align: right;\n",
       "    }\n",
       "</style>\n",
       "<table border=\"1\" class=\"dataframe\">\n",
       "  <thead>\n",
       "    <tr style=\"text-align: right;\">\n",
       "      <th></th>\n",
       "      <th>Date</th>\n",
       "      <th>GDP YOY</th>\n",
       "      <th>CPI YOY</th>\n",
       "    </tr>\n",
       "  </thead>\n",
       "  <tbody>\n",
       "    <tr>\n",
       "      <th>0</th>\n",
       "      <td>1970-12-31</td>\n",
       "      <td>-0.200000</td>\n",
       "      <td>5.6</td>\n",
       "    </tr>\n",
       "    <tr>\n",
       "      <th>1</th>\n",
       "      <td>1971-01-31</td>\n",
       "      <td>2.700000</td>\n",
       "      <td>4.7</td>\n",
       "    </tr>\n",
       "    <tr>\n",
       "      <th>2</th>\n",
       "      <td>1971-02-28</td>\n",
       "      <td>2.700000</td>\n",
       "      <td>4.7</td>\n",
       "    </tr>\n",
       "    <tr>\n",
       "      <th>3</th>\n",
       "      <td>1971-03-31</td>\n",
       "      <td>2.700000</td>\n",
       "      <td>4.7</td>\n",
       "    </tr>\n",
       "    <tr>\n",
       "      <th>4</th>\n",
       "      <td>1971-04-30</td>\n",
       "      <td>3.100000</td>\n",
       "      <td>4.6</td>\n",
       "    </tr>\n",
       "    <tr>\n",
       "      <th>...</th>\n",
       "      <td>...</td>\n",
       "      <td>...</td>\n",
       "      <td>...</td>\n",
       "    </tr>\n",
       "    <tr>\n",
       "      <th>638</th>\n",
       "      <td>2024-02-29</td>\n",
       "      <td>2.900000</td>\n",
       "      <td>3.5</td>\n",
       "    </tr>\n",
       "    <tr>\n",
       "      <th>639</th>\n",
       "      <td>2024-03-31</td>\n",
       "      <td>2.900000</td>\n",
       "      <td>3.5</td>\n",
       "    </tr>\n",
       "    <tr>\n",
       "      <th>640</th>\n",
       "      <td>2024-04-30</td>\n",
       "      <td>2.657112</td>\n",
       "      <td>3.0</td>\n",
       "    </tr>\n",
       "    <tr>\n",
       "      <th>641</th>\n",
       "      <td>2024-05-31</td>\n",
       "      <td>2.657112</td>\n",
       "      <td>3.0</td>\n",
       "    </tr>\n",
       "    <tr>\n",
       "      <th>642</th>\n",
       "      <td>2024-06-30</td>\n",
       "      <td>2.657112</td>\n",
       "      <td>3.0</td>\n",
       "    </tr>\n",
       "  </tbody>\n",
       "</table>\n",
       "<p>643 rows × 3 columns</p>\n",
       "</div>"
      ],
      "text/plain": [
       "           Date   GDP YOY  CPI YOY\n",
       "0    1970-12-31 -0.200000      5.6\n",
       "1    1971-01-31  2.700000      4.7\n",
       "2    1971-02-28  2.700000      4.7\n",
       "3    1971-03-31  2.700000      4.7\n",
       "4    1971-04-30  3.100000      4.6\n",
       "..          ...       ...      ...\n",
       "638  2024-02-29  2.900000      3.5\n",
       "639  2024-03-31  2.900000      3.5\n",
       "640  2024-04-30  2.657112      3.0\n",
       "641  2024-05-31  2.657112      3.0\n",
       "642  2024-06-30  2.657112      3.0\n",
       "\n",
       "[643 rows x 3 columns]"
      ]
     },
     "execution_count": 71,
     "metadata": {},
     "output_type": "execute_result"
    }
   ],
   "source": [
    "# Convert dateframe to only show quarterly data\n",
    "macro.loc[~macro['Date'].apply(lambda x: x.month).isin([3, 6, 9, 12]), 'CPI YOY'] = np.nan\n",
    "macro.bfill(inplace=True)\n",
    "macro"
   ]
  },
  {
   "cell_type": "code",
   "execution_count": 72,
   "metadata": {},
   "outputs": [
    {
     "name": "stdout",
     "output_type": "stream",
     "text": [
      "Date                     0\n",
      "S&P 500                368\n",
      "Gold                   990\n",
      "USD Index Spot Rate    175\n",
      "dtype: int64\n"
     ]
    }
   ],
   "source": [
    "fred_sp500.rename(columns={'DATE': 'Date', 'SP500': 'S&P 500'}, inplace=True)  \n",
    "\n",
    "# Merge prices with fred_sp500 and wgc_gold_prices\n",
    "prices = prices.merge(fred_sp500[['Date', 'S&P 500']], on='Date', how='left', suffixes=('', '_new'))\n",
    "prices = prices.merge(wgc_gold_prices[['Date', 'Gold']], on='Date', how='left', suffixes=('', '_new'))\n",
    "\n",
    "# Fill missing values \n",
    "prices['S&P 500'] = prices['S&P 500'].fillna(prices['S&P 500_new'])\n",
    "prices['Gold'] = prices['Gold'].fillna(prices['Gold_new'])\n",
    "\n",
    "# Drop the extra columns used for filling\n",
    "prices.drop(columns=['S&P 500_new', 'Gold_new'], inplace=True)\n",
    "\n",
    "print(prices.isna().sum())"
   ]
  },
  {
   "cell_type": "code",
   "execution_count": 73,
   "metadata": {},
   "outputs": [
    {
     "name": "stdout",
     "output_type": "stream",
     "text": [
      "Date                   0\n",
      "S&P 500                0\n",
      "Gold                   0\n",
      "USD Index Spot Rate    0\n",
      "dtype: int64\n"
     ]
    }
   ],
   "source": [
    "# Forward fill remaining missing values\n",
    "prices.ffill(inplace=True)\n",
    "\n",
    "print(prices.isna().sum())"
   ]
  },
  {
   "cell_type": "markdown",
   "metadata": {},
   "source": [
    "## Optimization\n",
    "Assumptions:\n",
    "* Optimization Goal: Maximise Sharpe and Beat Market Returns\n",
    "* Risk-Free Rate is 0\n",
    "* Range of Possible Hedge Positions for Gold and Bonds: -1 to 1\n",
    "* Threshold for determining gdp (rising/falling) is 2\n",
    "* Threshold for determining cpi (rising/falling) is 2\n",
    "* Modified Duration of a 10-Year Bond is 8\n",
    "\n",
    "Economic Regime\n",
    "* Goldilocks - Rising GDP and Falling Inflation\n",
    "* Slow Growth - Slowing GDP and Falling Inflation\n",
    "* Stagflation - Slowing GDP and Rising Inflation\n",
    "* Heating Up - Rising GDP and Rising Inflation\n"
   ]
  },
  {
   "cell_type": "code",
   "execution_count": 74,
   "metadata": {},
   "outputs": [],
   "source": [
    "# Define economic regimes\n",
    "def assign_economic_regime(row):\n",
    "    if row['GDP YOY'] <= 2 and row['CPI YOY'] > 2:\n",
    "        return 'Stagflation'\n",
    "    elif row['GDP YOY'] > 2 and row['CPI YOY'] > 2:\n",
    "        return 'Heating Up'\n",
    "    elif row['GDP YOY'] <= 2 and row['CPI YOY'] <= 2:\n",
    "        return 'Slow Growth'\n",
    "    elif row['GDP YOY'] > 2 and row['CPI YOY'] <= 2:\n",
    "        return 'Goldilocks'\n",
    "    \n",
    "macro['Economic Regime'] = macro.apply(assign_economic_regime, axis=1)"
   ]
  },
  {
   "cell_type": "code",
   "execution_count": 75,
   "metadata": {},
   "outputs": [
    {
     "name": "stdout",
     "output_type": "stream",
     "text": [
      "(2927, 5)\n",
      "(7572, 5)\n",
      "(1955, 5)\n",
      "(1237, 5)\n"
     ]
    }
   ],
   "source": [
    "macro['Year_Month'] = macro['Date'].apply(lambda x: f\"{x.year}-{x.month}\")\n",
    "prices['Year_Month'] = prices['Date'].apply(lambda x: f\"{x.year}-{x.month}\")\n",
    "\n",
    "# Combine all dataframes\n",
    "combined_df = prices.merge(macro, on='Year_Month', how='inner')\n",
    "combined_df = combined_df.merge(us_bonds, left_on='Date_x', right_on='Date', how='inner')\n",
    "\n",
    "# Filter for Essential Columns for Optimization\n",
    "combined_df = combined_df[['Date', 'S&P 500', 'Gold', 'US 10YR Bonds', 'Economic Regime']]\n",
    "\n",
    "print(combined_df[combined_df['Economic Regime'] == 'Stagflation'].shape)\n",
    "print(combined_df[combined_df['Economic Regime'] == 'Heating Up'].shape)\n",
    "print(combined_df[combined_df['Economic Regime'] == 'Goldilocks'].shape)\n",
    "print(combined_df[combined_df['Economic Regime'] == 'Slow Growth'].shape)\n"
   ]
  },
  {
   "cell_type": "markdown",
   "metadata": {},
   "source": [
    "#### Calculate Returns"
   ]
  },
  {
   "cell_type": "code",
   "execution_count": 76,
   "metadata": {},
   "outputs": [
    {
     "data": {
      "text/html": [
       "<div>\n",
       "<style scoped>\n",
       "    .dataframe tbody tr th:only-of-type {\n",
       "        vertical-align: middle;\n",
       "    }\n",
       "\n",
       "    .dataframe tbody tr th {\n",
       "        vertical-align: top;\n",
       "    }\n",
       "\n",
       "    .dataframe thead th {\n",
       "        text-align: right;\n",
       "    }\n",
       "</style>\n",
       "<table border=\"1\" class=\"dataframe\">\n",
       "  <thead>\n",
       "    <tr style=\"text-align: right;\">\n",
       "      <th></th>\n",
       "      <th>Date</th>\n",
       "      <th>S&amp;P 500</th>\n",
       "      <th>Gold</th>\n",
       "      <th>US 10YR Bonds</th>\n",
       "      <th>Economic Regime</th>\n",
       "      <th>S&amp;P 500 Return</th>\n",
       "      <th>Gold Return</th>\n",
       "      <th>US 10YR Bonds Return</th>\n",
       "    </tr>\n",
       "  </thead>\n",
       "  <tbody>\n",
       "    <tr>\n",
       "      <th>1</th>\n",
       "      <td>1971-01-04</td>\n",
       "      <td>91.15</td>\n",
       "      <td>37.44</td>\n",
       "      <td>6.4620</td>\n",
       "      <td>Heating Up</td>\n",
       "      <td>-0.010852</td>\n",
       "      <td>0.000000</td>\n",
       "      <td>0.049216</td>\n",
       "    </tr>\n",
       "    <tr>\n",
       "      <th>2</th>\n",
       "      <td>1971-01-05</td>\n",
       "      <td>91.80</td>\n",
       "      <td>37.44</td>\n",
       "      <td>6.4720</td>\n",
       "      <td>Heating Up</td>\n",
       "      <td>0.007131</td>\n",
       "      <td>0.000000</td>\n",
       "      <td>-0.012380</td>\n",
       "    </tr>\n",
       "    <tr>\n",
       "      <th>3</th>\n",
       "      <td>1971-01-06</td>\n",
       "      <td>92.35</td>\n",
       "      <td>37.44</td>\n",
       "      <td>6.4720</td>\n",
       "      <td>Heating Up</td>\n",
       "      <td>0.005991</td>\n",
       "      <td>0.000000</td>\n",
       "      <td>-0.000000</td>\n",
       "    </tr>\n",
       "    <tr>\n",
       "      <th>4</th>\n",
       "      <td>1971-01-07</td>\n",
       "      <td>92.38</td>\n",
       "      <td>37.44</td>\n",
       "      <td>6.4520</td>\n",
       "      <td>Heating Up</td>\n",
       "      <td>0.000325</td>\n",
       "      <td>0.000000</td>\n",
       "      <td>0.024722</td>\n",
       "    </tr>\n",
       "    <tr>\n",
       "      <th>5</th>\n",
       "      <td>1971-01-08</td>\n",
       "      <td>92.19</td>\n",
       "      <td>37.44</td>\n",
       "      <td>6.4420</td>\n",
       "      <td>Heating Up</td>\n",
       "      <td>-0.002057</td>\n",
       "      <td>0.000000</td>\n",
       "      <td>0.012399</td>\n",
       "    </tr>\n",
       "    <tr>\n",
       "      <th>...</th>\n",
       "      <td>...</td>\n",
       "      <td>...</td>\n",
       "      <td>...</td>\n",
       "      <td>...</td>\n",
       "      <td>...</td>\n",
       "      <td>...</td>\n",
       "      <td>...</td>\n",
       "      <td>...</td>\n",
       "    </tr>\n",
       "    <tr>\n",
       "      <th>13686</th>\n",
       "      <td>2024-06-24</td>\n",
       "      <td>5447.87</td>\n",
       "      <td>2334.65</td>\n",
       "      <td>4.2321</td>\n",
       "      <td>Heating Up</td>\n",
       "      <td>-0.003065</td>\n",
       "      <td>0.005457</td>\n",
       "      <td>0.043803</td>\n",
       "    </tr>\n",
       "    <tr>\n",
       "      <th>13687</th>\n",
       "      <td>2024-06-25</td>\n",
       "      <td>5469.30</td>\n",
       "      <td>2319.62</td>\n",
       "      <td>4.2476</td>\n",
       "      <td>Heating Up</td>\n",
       "      <td>0.003934</td>\n",
       "      <td>-0.006438</td>\n",
       "      <td>-0.029300</td>\n",
       "    </tr>\n",
       "    <tr>\n",
       "      <th>13688</th>\n",
       "      <td>2024-06-26</td>\n",
       "      <td>5477.90</td>\n",
       "      <td>2298.23</td>\n",
       "      <td>4.3294</td>\n",
       "      <td>Heating Up</td>\n",
       "      <td>0.001572</td>\n",
       "      <td>-0.009221</td>\n",
       "      <td>-0.154063</td>\n",
       "    </tr>\n",
       "    <tr>\n",
       "      <th>13689</th>\n",
       "      <td>2024-06-27</td>\n",
       "      <td>5482.87</td>\n",
       "      <td>2327.73</td>\n",
       "      <td>4.2864</td>\n",
       "      <td>Heating Up</td>\n",
       "      <td>0.000907</td>\n",
       "      <td>0.012836</td>\n",
       "      <td>0.079457</td>\n",
       "    </tr>\n",
       "    <tr>\n",
       "      <th>13690</th>\n",
       "      <td>2024-06-28</td>\n",
       "      <td>5460.48</td>\n",
       "      <td>2326.75</td>\n",
       "      <td>4.3961</td>\n",
       "      <td>Heating Up</td>\n",
       "      <td>-0.004084</td>\n",
       "      <td>-0.000421</td>\n",
       "      <td>-0.204741</td>\n",
       "    </tr>\n",
       "  </tbody>\n",
       "</table>\n",
       "<p>13690 rows × 8 columns</p>\n",
       "</div>"
      ],
      "text/plain": [
       "             Date  S&P 500     Gold  US 10YR Bonds Economic Regime  \\\n",
       "1      1971-01-04    91.15    37.44         6.4620      Heating Up   \n",
       "2      1971-01-05    91.80    37.44         6.4720      Heating Up   \n",
       "3      1971-01-06    92.35    37.44         6.4720      Heating Up   \n",
       "4      1971-01-07    92.38    37.44         6.4520      Heating Up   \n",
       "5      1971-01-08    92.19    37.44         6.4420      Heating Up   \n",
       "...           ...      ...      ...            ...             ...   \n",
       "13686  2024-06-24  5447.87  2334.65         4.2321      Heating Up   \n",
       "13687  2024-06-25  5469.30  2319.62         4.2476      Heating Up   \n",
       "13688  2024-06-26  5477.90  2298.23         4.3294      Heating Up   \n",
       "13689  2024-06-27  5482.87  2327.73         4.2864      Heating Up   \n",
       "13690  2024-06-28  5460.48  2326.75         4.3961      Heating Up   \n",
       "\n",
       "       S&P 500 Return  Gold Return  US 10YR Bonds Return  \n",
       "1           -0.010852     0.000000              0.049216  \n",
       "2            0.007131     0.000000             -0.012380  \n",
       "3            0.005991     0.000000             -0.000000  \n",
       "4            0.000325     0.000000              0.024722  \n",
       "5           -0.002057     0.000000              0.012399  \n",
       "...               ...          ...                   ...  \n",
       "13686       -0.003065     0.005457              0.043803  \n",
       "13687        0.003934    -0.006438             -0.029300  \n",
       "13688        0.001572    -0.009221             -0.154063  \n",
       "13689        0.000907     0.012836              0.079457  \n",
       "13690       -0.004084    -0.000421             -0.204741  \n",
       "\n",
       "[13690 rows x 8 columns]"
      ]
     },
     "execution_count": 76,
     "metadata": {},
     "output_type": "execute_result"
    }
   ],
   "source": [
    "modified_duration = 8 # Assumption\n",
    "\n",
    "combined_df['S&P 500 Return'] = combined_df['S&P 500'].pct_change()\n",
    "combined_df['Gold Return'] = combined_df['Gold'].pct_change()\n",
    "combined_df['US 10YR Bonds Return'] = -modified_duration * combined_df['US 10YR Bonds'].pct_change()\n",
    "combined_df.dropna(inplace=True)\n",
    "combined_df"
   ]
  },
  {
   "cell_type": "markdown",
   "metadata": {},
   "source": [
    "#### Plot S&P500 Returns in Each Regime\n",
    "\n",
    "Conclusion: Use mean returns for Stagflation, Goldilocks and Slow Growth regime, use median for Heating Up regime.\n"
   ]
  },
  {
   "cell_type": "code",
   "execution_count": 77,
   "metadata": {},
   "outputs": [
    {
     "name": "stdout",
     "output_type": "stream",
     "text": [
      "Skewness of S&P 500 Returns (Heating Up): -1.900125398893881\n",
      "Skewness of S&P 500 Returns (Stagflation): -0.056968259343435995\n",
      "Skewness of S&P 500 Returns (Goldilocks): -0.21577856277007415\n",
      "Skewness of S&P 500 Returns (Slow Growth): -0.09413766892657177\n"
     ]
    },
    {
     "data": {
      "image/png": "[encoded data removed]",
      "text/plain": [
       "<Figure size 1400x2000 with 8 Axes>"
      ]
     },
     "metadata": {},
     "output_type": "display_data"
    }
   ],
   "source": [
    "regimes = combined_df['Economic Regime'].unique()\n",
    "\n",
    "fig, axes = plt.subplots(len(regimes), 2, figsize=(14, 5 * len(regimes)))\n",
    "fig.suptitle('S&P 500 Returns by Economic Regime')\n",
    "\n",
    "for i, regime in enumerate(regimes):\n",
    "    # Filter data by specific regime\n",
    "    regime_data = combined_df[combined_df['Economic Regime'] == regime]\n",
    "    \n",
    "    # Boxplott\n",
    "    sns.boxplot(x=regime_data['S&P 500 Return'], ax=axes[i, 0])\n",
    "    axes[i, 0].set_title(f'Box Plot of S&P 500 Returns in {regime}')\n",
    "    axes[i, 0].set_xlabel('S&P 500 Return')\n",
    "    axes[i, 0].set_ylabel('Frequency')\n",
    "    \n",
    "    # Histogram \n",
    "    sns.histplot(regime_data['S&P 500 Return'], ax=axes[i, 1])\n",
    "    axes[i, 1].set_title(f'Histogram of S&P 500 Returns in {regime}')\n",
    "    axes[i, 1].set_xlabel('S&P 500 Return')\n",
    "    axes[i, 1].set_ylabel('Frequency')\n",
    "\n",
    "    # Calculate skewness\n",
    "    skewness = skew(regime_data['S&P 500 Return'])\n",
    "    print(f\"Skewness of S&P 500 Returns ({regime}): {skewness}\")\n",
    "\n",
    "plt.show()"
   ]
  },
  {
   "cell_type": "code",
   "execution_count": 78,
   "metadata": {},
   "outputs": [],
   "source": [
    "# Objective Function\n",
    "def calc_neg_sharpe_ratio(weights, returns_df, sp500_returns, risk_free_rate=0):\n",
    "    portfolio_return = sp500_returns + np.dot(returns_df, weights)\n",
    "    daily_sharpe_ratio = (portfolio_return.mean() - risk_free_rate) / portfolio_return.std()\n",
    "    annual_sharpe_ratio = daily_sharpe_ratio * np.sqrt(252)\n",
    "    return -annual_sharpe_ratio\n",
    "\n",
    "\n",
    "# Constraint function based on regime\n",
    "def regime_based_constraint(weights, returns_df, sp500_returns, regime='default'):\n",
    "    portfolio_return = sp500_returns + np.dot(returns_df, weights)\n",
    "    \n",
    "    if regime == 'Heating Up':\n",
    "        return np.median(portfolio_return) - np.median(sp500_returns)\n",
    "    else:\n",
    "        return portfolio_return.mean() - sp500_returns.mean()\n",
    "    \n",
    "# Optimization function\n",
    "def optimize_hedge_weights(returns_df, sp500_returns, risk_free_rate=0, regime='default'):\n",
    "    objective_func = lambda weights: calc_neg_sharpe_ratio(weights, returns_df, sp500_returns, risk_free_rate=risk_free_rate)\n",
    "    \n",
    "    constraints = [\n",
    "        {'type': 'ineq', 'fun': lambda weights: regime_based_constraint(weights, returns_df, sp500_returns, regime=regime)}\n",
    "    ]\n",
    "    \n",
    "    # Assumption: Allow weights of Gold and Bonds between -1 and 1\n",
    "    bounds = [(-1, 1), (-1, 1)]\n",
    "    \n",
    "    initial_guess = [0.5, 0.5]\n",
    "\n",
    "    result = minimize(objective_func, initial_guess, bounds=bounds, constraints=constraints)\n",
    "    if result.success:\n",
    "        optimized_weights = result.x\n",
    "\n",
    "        # Calculate optimized sharpe and returns\n",
    "        portfolio_return = sp500_returns + np.dot(returns_df, optimized_weights)\n",
    "        daily_sharpe_ratio = (portfolio_return.mean() - risk_free_rate) / portfolio_return.std()\n",
    "        annual_sharpe_ratio = daily_sharpe_ratio * np.sqrt(252)\n",
    "        \n",
    "        print(f\"{regime}\")\n",
    "        print(\"Optimized Weights (Gold, Bonds):\", [f\"{weight:.3f}\" for weight in optimized_weights])\n",
    "        print(\"Achieved Annual Sharpe Ratio:\", f\"{annual_sharpe_ratio:.2f}\")\n",
    "        print(\"Achieved Average Daily Return:\", f\"{portfolio_return.mean() * 100:.2f} %\")\n",
    "        print()\n",
    "        return optimized_weights\n"
   ]
  },
  {
   "cell_type": "code",
   "execution_count": 79,
   "metadata": {},
   "outputs": [],
   "source": [
    "# Out-of-Sample (oos) analysis - using optimized weights of one regime in all other regimes\n",
    "# Print Annual Sharpe Ratio, Average Daily Return\n",
    "def oos_analysis(weights, risk_free_rate=0, regime=regime):\n",
    "    oos = combined_df[combined_df['Economic Regime'] != regime]\n",
    "    oos_returns = oos[['Gold Return', 'US 10YR Bonds Return']].values\n",
    "    oos_sp500_returns = oos['S&P 500 Return'].values\n",
    "    oos_portfolio_return = oos_sp500_returns + np.dot(oos_returns, weights)\n",
    "    oos_daily_sharpe_ratio = (oos_portfolio_return.mean() - risk_free_rate) / oos_portfolio_return.std()\n",
    "    oos_annual_sharpe_ratio = oos_daily_sharpe_ratio * np.sqrt(252)\n",
    "    print(f\"{regime} - Out-of-Sample Analysis\")\n",
    "    print(\"Weights (Gold, Bonds):\", [f\"{weight:.3f}\" for weight in weights])\n",
    "    print(\"Achieved Annual Sharpe Ratio:\", f\"{oos_annual_sharpe_ratio:.2f}\")\n",
    "    print(\"Achieved Average Daily Return:\", f\"{oos_portfolio_return.mean() * 100:.2f} %\")"
   ]
  },
  {
   "cell_type": "code",
   "execution_count": 80,
   "metadata": {},
   "outputs": [
    {
     "name": "stdout",
     "output_type": "stream",
     "text": [
      "==================================================\n",
      "Goldilocks\n",
      "Optimized Weights (Gold, Bonds): ['0.371', '0.059']\n",
      "Achieved Annual Sharpe Ratio: 0.77\n",
      "Achieved Average Daily Return: 0.06 %\n",
      "\n",
      "Goldilocks - Out-of-Sample Analysis\n",
      "Weights (Gold, Bonds): ['0.371', '0.059']\n",
      "Achieved Annual Sharpe Ratio: 0.47\n",
      "Achieved Average Daily Return: 0.04 %\n",
      "==================================================\n",
      "==================================================\n",
      "Heating Up\n",
      "Optimized Weights (Gold, Bonds): ['0.672', '-0.050']\n",
      "Achieved Annual Sharpe Ratio: 1.08\n",
      "Achieved Average Daily Return: 0.08 %\n",
      "\n",
      "Heating Up - Out-of-Sample Analysis\n",
      "Weights (Gold, Bonds): ['0.672', '-0.050']\n",
      "Achieved Annual Sharpe Ratio: 0.41\n",
      "Achieved Average Daily Return: 0.05 %\n",
      "==================================================\n",
      "==================================================\n",
      "Slow Growth\n",
      "Optimized Weights (Gold, Bonds): ['1.000', '0.019']\n",
      "Achieved Annual Sharpe Ratio: 0.58\n",
      "Achieved Average Daily Return: 0.08 %\n",
      "\n",
      "Slow Growth - Out-of-Sample Analysis\n",
      "Weights (Gold, Bonds): ['1.000', '0.019']\n",
      "Achieved Annual Sharpe Ratio: 0.71\n",
      "Achieved Average Daily Return: 0.07 %\n",
      "==================================================\n",
      "==================================================\n",
      "Stagflation\n",
      "Optimized Weights (Gold, Bonds): ['1.000', '-0.086']\n",
      "Achieved Annual Sharpe Ratio: 0.57\n",
      "Achieved Average Daily Return: 0.09 %\n",
      "\n",
      "Stagflation - Out-of-Sample Analysis\n",
      "Weights (Gold, Bonds): ['1.000', '-0.086']\n",
      "Achieved Annual Sharpe Ratio: 0.64\n",
      "Achieved Average Daily Return: 0.08 %\n",
      "==================================================\n"
     ]
    }
   ],
   "source": [
    "for regime, group in combined_df.groupby('Economic Regime'):\n",
    "    returns_df = group[['Gold Return', 'US 10YR Bonds Return']].values\n",
    "    sp500_returns = group['S&P 500 Return'].values\n",
    "    # Get optimize weights, print optimized weights, annual sharpe ratio and average daily return\n",
    "    print(\"=\"*50)\n",
    "    optimized_weights = optimize_hedge_weights(returns_df, sp500_returns, regime=regime)\n",
    "\n",
    "    # Out-of-Sample (oos) analysis\n",
    "    oos_analysis(optimized_weights, regime=regime)\n",
    "    print(\"=\"*50)\n"
   ]
  },
  {
   "cell_type": "markdown",
   "metadata": {},
   "source": [
    "## Conclusion\n",
    "\n",
    "#### Goldilocks\n",
    "Optimized Weights (Gold, Bonds): ['0.371', '0.059']  \n",
    "Achieved Annual Sharpe Ratio: 0.77  \n",
    "Achieved Average Daily Return: 0.06 %  \n",
    "\n",
    "#### Goldilocks - Out-of-Sample Analysis\n",
    "Weights (Gold, Bonds): ['0.371', '0.059']  \n",
    "Achieved Annual Sharpe Ratio: 0.47  \n",
    "Achieved Average Daily Return: 0.04 %  \n",
    "\n",
    "#### Heating Up\n",
    "Optimized Weights (Gold, Bonds): ['0.672', '-0.050']  \n",
    "Achieved Annual Sharpe Ratio: 1.08  \n",
    "Achieved Average Daily Return: 0.08 %  \n",
    "\n",
    "#### Heating Up - Out-of-Sample Analysis\n",
    "Weights (Gold, Bonds): ['0.672', '-0.050']  \n",
    "Achieved Annual Sharpe Ratio: 0.41  \n",
    "Achieved Average Daily Return: 0.05 %  \n",
    "\n",
    "#### Slow Growth\n",
    "Optimized Weights (Gold, Bonds): ['1.000', '0.019']  \n",
    "Achieved Annual Sharpe Ratio: 0.58  \n",
    "Achieved Average Daily Return: 0.08 %  \n",
    "\n",
    "#### Slow Growth - Out-of-Sample Analysis\n",
    "Weights (Gold, Bonds): ['1.000', '0.019']  \n",
    "Achieved Annual Sharpe Ratio: 0.71  \n",
    "Achieved Average Daily Return: 0.07 %  \n",
    "\n",
    "#### Stagflation\n",
    "Optimized Weights (Gold, Bonds): ['1.000', '-0.086']  \n",
    "Achieved Annual Sharpe Ratio: 0.57  \n",
    "Achieved Average Daily Return: 0.09 %  \n",
    "\n",
    "#### Stagflation - Out-of-Sample Analysis\n",
    "Weights (Gold, Bonds): ['1.000', '-0.086']  \n",
    "Achieved Annual Sharpe Ratio: 0.64  \n",
    "Achieved Average Daily Return: 0.08 %  "
   ]
  }
 ],
 "metadata": {
  "kernelspec": {
   "display_name": "Python 3",
   "language": "python",
   "name": "python3"
  },
  "language_info": {
   "codemirror_mode": {
    "name": "ipython",
    "version": 3
   },
   "file_extension": ".py",
   "mimetype": "text/x-python",
   "name": "python",
   "nbconvert_exporter": "python",
   "pygments_lexer": "ipython3",
   "version": "3.12.2"
  }
 },
 "nbformat": 4,
 "nbformat_minor": 2
}
